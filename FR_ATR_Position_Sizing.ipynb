{
 "cells": [
  {
   "cell_type": "markdown",
   "metadata": {},
   "source": [
    "# Fierce Research ATR Position Sizing For Stocks\n",
    "\n",
    "\n",
    "Sources: \n",
    "- For ATR: https://www.investopedia.com/terms/a/atr.asp\n",
    "- For Position sizing using 2x ATR: https://www.thebalance.com/how-average-true-range-atr-can-improve-trading-4154923"
   ]
  },
  {
   "cell_type": "markdown",
   "metadata": {},
   "source": [
    "#### Import Packages"
   ]
  },
  {
   "cell_type": "code",
   "execution_count": 1,
   "metadata": {},
   "outputs": [],
   "source": [
    "import numpy as np\n",
    "import pandas as pd\n",
    "\n",
    "import warnings \n",
    "warnings.filterwarnings('ignore')"
   ]
  },
  {
   "cell_type": "markdown",
   "metadata": {},
   "source": [
    "#### Import Data"
   ]
  },
  {
   "cell_type": "code",
   "execution_count": 2,
   "metadata": {},
   "outputs": [
    {
     "data": {
      "text/html": [
       "<div>\n",
       "<style scoped>\n",
       "    .dataframe tbody tr th:only-of-type {\n",
       "        vertical-align: middle;\n",
       "    }\n",
       "\n",
       "    .dataframe tbody tr th {\n",
       "        vertical-align: top;\n",
       "    }\n",
       "\n",
       "    .dataframe thead th {\n",
       "        text-align: right;\n",
       "    }\n",
       "</style>\n",
       "<table border=\"1\" class=\"dataframe\">\n",
       "  <thead>\n",
       "    <tr style=\"text-align: right;\">\n",
       "      <th></th>\n",
       "      <th>instrument</th>\n",
       "      <th>price close</th>\n",
       "      <th>price open</th>\n",
       "      <th>price high</th>\n",
       "      <th>price low</th>\n",
       "    </tr>\n",
       "  </thead>\n",
       "  <tbody>\n",
       "    <tr>\n",
       "      <th>2020-06-24</th>\n",
       "      <td>FVL.TO</td>\n",
       "      <td>0.87</td>\n",
       "      <td>0.81</td>\n",
       "      <td>0.92</td>\n",
       "      <td>0.80</td>\n",
       "    </tr>\n",
       "    <tr>\n",
       "      <th>2020-06-25</th>\n",
       "      <td>FVL.TO</td>\n",
       "      <td>1.12</td>\n",
       "      <td>0.87</td>\n",
       "      <td>1.14</td>\n",
       "      <td>0.85</td>\n",
       "    </tr>\n",
       "    <tr>\n",
       "      <th>2020-06-26</th>\n",
       "      <td>FVL.TO</td>\n",
       "      <td>1.24</td>\n",
       "      <td>1.12</td>\n",
       "      <td>1.41</td>\n",
       "      <td>0.99</td>\n",
       "    </tr>\n",
       "    <tr>\n",
       "      <th>2020-06-29</th>\n",
       "      <td>FVL.TO</td>\n",
       "      <td>1.30</td>\n",
       "      <td>1.36</td>\n",
       "      <td>1.46</td>\n",
       "      <td>1.24</td>\n",
       "    </tr>\n",
       "    <tr>\n",
       "      <th>2020-06-30</th>\n",
       "      <td>FVL.TO</td>\n",
       "      <td>1.33</td>\n",
       "      <td>1.30</td>\n",
       "      <td>1.37</td>\n",
       "      <td>1.22</td>\n",
       "    </tr>\n",
       "  </tbody>\n",
       "</table>\n",
       "</div>"
      ],
      "text/plain": [
       "           instrument  price close  price open  price high  price low\n",
       "2020-06-24     FVL.TO         0.87        0.81        0.92       0.80\n",
       "2020-06-25     FVL.TO         1.12        0.87        1.14       0.85\n",
       "2020-06-26     FVL.TO         1.24        1.12        1.41       0.99\n",
       "2020-06-29     FVL.TO         1.30        1.36        1.46       1.24\n",
       "2020-06-30     FVL.TO         1.33        1.30        1.37       1.22"
      ]
     },
     "execution_count": 2,
     "metadata": {},
     "output_type": "execute_result"
    }
   ],
   "source": [
    "import eikon as tr\n",
    "tr.set_app_key('DEFAULT_CODE_BOOK_APP_KEY')\n",
    "\n",
    "stock = 'FVL.TO'\n",
    "\n",
    "df1, e= tr.get_data([stock],['tr.priceclose.date','tr.priceclose','tr.open','tr.high','tr.low'],\n",
    "                       {'SDate':-50,'EDate':0,'Frq':'D'})\n",
    "\n",
    "df1['Date'] = pd.to_datetime(df1['Date'])\n",
    "df1.set_index('Date', inplace=True) \n",
    "df1.index = df1.index.map(lambda t: t.strftime('%Y-%m-%d'))\n",
    "df1.columns = map(str.lower, df1.columns)\n",
    "df1 = df1.drop_duplicates()\n",
    "df1 = df1.round(2)\n",
    "df1.tail()"
   ]
  },
  {
   "cell_type": "markdown",
   "metadata": {},
   "source": [
    "#### True Range\n",
    "\n",
    "The TR for a given trading period is the greatest of the following:\n",
    "\n",
    "- Current high minus the previous close\n",
    "- Current low minus the previous close\n",
    "- Current high minus the current low"
   ]
  },
  {
   "cell_type": "code",
   "execution_count": 3,
   "metadata": {},
   "outputs": [],
   "source": [
    "df1['price close shifted'] = df1['price close'].shift(1)"
   ]
  },
  {
   "cell_type": "code",
   "execution_count": 4,
   "metadata": {},
   "outputs": [],
   "source": [
    "df1['high minus previous low'] = df1['price high']-df1['price close shifted']"
   ]
  },
  {
   "cell_type": "code",
   "execution_count": 5,
   "metadata": {},
   "outputs": [],
   "source": [
    "df1['low minus previous close'] = df1['price low']-df1['price close shifted']"
   ]
  },
  {
   "cell_type": "code",
   "execution_count": 6,
   "metadata": {},
   "outputs": [],
   "source": [
    "df1['curent high minus current low'] = df1['price high']-df1['price low']"
   ]
  },
  {
   "cell_type": "code",
   "execution_count": 7,
   "metadata": {},
   "outputs": [],
   "source": [
    "df1['true range'] = abs(df1[['high minus previous low','low minus previous close','curent high minus current low']]).max(axis=1)"
   ]
  },
  {
   "cell_type": "markdown",
   "metadata": {},
   "source": [
    "#### Average True Range"
   ]
  },
  {
   "cell_type": "code",
   "execution_count": 8,
   "metadata": {},
   "outputs": [
    {
     "data": {
      "text/html": [
       "<div>\n",
       "<style scoped>\n",
       "    .dataframe tbody tr th:only-of-type {\n",
       "        vertical-align: middle;\n",
       "    }\n",
       "\n",
       "    .dataframe tbody tr th {\n",
       "        vertical-align: top;\n",
       "    }\n",
       "\n",
       "    .dataframe thead th {\n",
       "        text-align: right;\n",
       "    }\n",
       "</style>\n",
       "<table border=\"1\" class=\"dataframe\">\n",
       "  <thead>\n",
       "    <tr style=\"text-align: right;\">\n",
       "      <th></th>\n",
       "      <th>instrument</th>\n",
       "      <th>price close</th>\n",
       "      <th>price open</th>\n",
       "      <th>price high</th>\n",
       "      <th>price low</th>\n",
       "      <th>price close shifted</th>\n",
       "      <th>high minus previous low</th>\n",
       "      <th>low minus previous close</th>\n",
       "      <th>curent high minus current low</th>\n",
       "      <th>true range</th>\n",
       "      <th>atr</th>\n",
       "    </tr>\n",
       "  </thead>\n",
       "  <tbody>\n",
       "    <tr>\n",
       "      <th>2020-06-30</th>\n",
       "      <td>FVL.TO</td>\n",
       "      <td>1.33</td>\n",
       "      <td>1.3</td>\n",
       "      <td>1.37</td>\n",
       "      <td>1.22</td>\n",
       "      <td>1.3</td>\n",
       "      <td>0.07</td>\n",
       "      <td>-0.08</td>\n",
       "      <td>0.15</td>\n",
       "      <td>0.15</td>\n",
       "      <td>0.154286</td>\n",
       "    </tr>\n",
       "  </tbody>\n",
       "</table>\n",
       "</div>"
      ],
      "text/plain": [
       "           instrument  price close  price open  price high  price low  \\\n",
       "2020-06-30     FVL.TO         1.33         1.3        1.37       1.22   \n",
       "\n",
       "            price close shifted  high minus previous low  \\\n",
       "2020-06-30                  1.3                     0.07   \n",
       "\n",
       "            low minus previous close  curent high minus current low  \\\n",
       "2020-06-30                     -0.08                           0.15   \n",
       "\n",
       "            true range       atr  \n",
       "2020-06-30        0.15  0.154286  "
      ]
     },
     "execution_count": 8,
     "metadata": {},
     "output_type": "execute_result"
    }
   ],
   "source": [
    "df1['atr'] = df1['true range'].rolling(14).mean()\n",
    "df1.tail(1)"
   ]
  },
  {
   "cell_type": "markdown",
   "metadata": {},
   "source": [
    "#### 2x ATR For Stop Loss Level"
   ]
  },
  {
   "cell_type": "code",
   "execution_count": 9,
   "metadata": {},
   "outputs": [],
   "source": [
    "df1['2x atr'] = df1['atr']*2"
   ]
  },
  {
   "cell_type": "code",
   "execution_count": 15,
   "metadata": {},
   "outputs": [
    {
     "data": {
      "text/html": [
       "<div>\n",
       "<style scoped>\n",
       "    .dataframe tbody tr th:only-of-type {\n",
       "        vertical-align: middle;\n",
       "    }\n",
       "\n",
       "    .dataframe tbody tr th {\n",
       "        vertical-align: top;\n",
       "    }\n",
       "\n",
       "    .dataframe thead th {\n",
       "        text-align: right;\n",
       "    }\n",
       "</style>\n",
       "<table border=\"1\" class=\"dataframe\">\n",
       "  <thead>\n",
       "    <tr style=\"text-align: right;\">\n",
       "      <th></th>\n",
       "      <th>instrument</th>\n",
       "      <th>price close</th>\n",
       "      <th>price open</th>\n",
       "      <th>price high</th>\n",
       "      <th>price low</th>\n",
       "      <th>price close shifted</th>\n",
       "      <th>high minus previous low</th>\n",
       "      <th>low minus previous close</th>\n",
       "      <th>curent high minus current low</th>\n",
       "      <th>true range</th>\n",
       "      <th>atr</th>\n",
       "      <th>2x atr</th>\n",
       "      <th>stop loss</th>\n",
       "      <th>$ at risk</th>\n",
       "      <th>recommended position size</th>\n",
       "    </tr>\n",
       "  </thead>\n",
       "  <tbody>\n",
       "    <tr>\n",
       "      <th>2020-06-30</th>\n",
       "      <td>FVL.TO</td>\n",
       "      <td>1.0</td>\n",
       "      <td>1.0</td>\n",
       "      <td>1.0</td>\n",
       "      <td>1.0</td>\n",
       "      <td>1.0</td>\n",
       "      <td>0.0</td>\n",
       "      <td>-0.0</td>\n",
       "      <td>0.0</td>\n",
       "      <td>0.0</td>\n",
       "      <td>0.0</td>\n",
       "      <td>0.0</td>\n",
       "      <td>1.0</td>\n",
       "      <td>250.0</td>\n",
       "      <td>810.0</td>\n",
       "    </tr>\n",
       "  </tbody>\n",
       "</table>\n",
       "</div>"
      ],
      "text/plain": [
       "           instrument  price close  price open  price high  price low  \\\n",
       "2020-06-30     FVL.TO          1.0         1.0         1.0        1.0   \n",
       "\n",
       "            price close shifted  high minus previous low  \\\n",
       "2020-06-30                  1.0                      0.0   \n",
       "\n",
       "            low minus previous close  curent high minus current low  \\\n",
       "2020-06-30                      -0.0                            0.0   \n",
       "\n",
       "            true range  atr  2x atr  stop loss  $ at risk  \\\n",
       "2020-06-30         0.0  0.0     0.0        1.0      250.0   \n",
       "\n",
       "            recommended position size  \n",
       "2020-06-30                      810.0  "
      ]
     },
     "execution_count": 15,
     "metadata": {},
     "output_type": "execute_result"
    }
   ],
   "source": [
    "df1['stop loss'] = df1['price close']-df1['2x atr']\n",
    "df1.tail(1).round()"
   ]
  },
  {
   "cell_type": "markdown",
   "metadata": {},
   "source": [
    "#### % Of Capital At Risk"
   ]
  },
  {
   "cell_type": "code",
   "execution_count": 11,
   "metadata": {},
   "outputs": [],
   "source": [
    "df1['$ at risk'] = (.005*50000)"
   ]
  },
  {
   "cell_type": "code",
   "execution_count": 12,
   "metadata": {},
   "outputs": [],
   "source": [
    "df1['recommended position size'] = df1['$ at risk']/df1['2x atr']"
   ]
  },
  {
   "cell_type": "markdown",
   "metadata": {},
   "source": [
    "#### Go To Market Position Size"
   ]
  },
  {
   "cell_type": "code",
   "execution_count": 13,
   "metadata": {},
   "outputs": [
    {
     "data": {
      "text/plain": [
       "810.0"
      ]
     },
     "execution_count": 13,
     "metadata": {},
     "output_type": "execute_result"
    }
   ],
   "source": [
    "df1['recommended position size'][-1].round()"
   ]
  },
  {
   "cell_type": "markdown",
   "metadata": {},
   "source": [
    "Good luck with the market! Guillaume, Fierce Research"
   ]
  },
  {
   "cell_type": "code",
   "execution_count": null,
   "metadata": {},
   "outputs": [],
   "source": []
  }
 ],
 "metadata": {
  "kernelspec": {
   "display_name": "Python 3",
   "language": "python",
   "name": "python3"
  },
  "language_info": {
   "codemirror_mode": {
    "name": "ipython",
    "version": 3
   },
   "file_extension": ".py",
   "mimetype": "text/x-python",
   "name": "python",
   "nbconvert_exporter": "python",
   "pygments_lexer": "ipython3",
   "version": "3.7.4"
  }
 },
 "nbformat": 4,
 "nbformat_minor": 4
}
