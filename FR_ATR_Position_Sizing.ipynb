{
 "cells": [
  {
   "cell_type": "markdown",
   "metadata": {},
   "source": [
    "# Fierce Research ATR Position Sizing For Stocks\n",
    "\n",
    "\n",
    "Sources: \n",
    "- For ATR: https://www.investopedia.com/terms/a/atr.asp\n",
    "- For Position sizing using 2x ATR: https://www.thebalance.com/how-average-true-range-atr-can-improve-trading-4154923"
   ]
  },
  {
   "cell_type": "markdown",
   "metadata": {},
   "source": [
    "#### Import Packages"
   ]
  },
  {
   "cell_type": "code",
   "execution_count": 269,
   "metadata": {},
   "outputs": [],
   "source": [
    "import numpy as np\n",
    "import pandas as pd\n",
    "\n",
    "import warnings \n",
    "warnings.filterwarnings('ignore')"
   ]
  },
  {
   "cell_type": "markdown",
   "metadata": {},
   "source": [
    "#### Import Data"
   ]
  },
  {
   "cell_type": "code",
   "execution_count": 270,
   "metadata": {},
   "outputs": [
    {
     "data": {
      "text/html": [
       "<div>\n",
       "<style scoped>\n",
       "    .dataframe tbody tr th:only-of-type {\n",
       "        vertical-align: middle;\n",
       "    }\n",
       "\n",
       "    .dataframe tbody tr th {\n",
       "        vertical-align: top;\n",
       "    }\n",
       "\n",
       "    .dataframe thead th {\n",
       "        text-align: right;\n",
       "    }\n",
       "</style>\n",
       "<table border=\"1\" class=\"dataframe\">\n",
       "  <thead>\n",
       "    <tr style=\"text-align: right;\">\n",
       "      <th></th>\n",
       "      <th>instrument</th>\n",
       "      <th>price close</th>\n",
       "      <th>price open</th>\n",
       "      <th>price high</th>\n",
       "      <th>price low</th>\n",
       "    </tr>\n",
       "  </thead>\n",
       "  <tbody>\n",
       "    <tr>\n",
       "      <th>2020-08-04</th>\n",
       "      <td>AEM.TO</td>\n",
       "      <td>108.62</td>\n",
       "      <td>104.88</td>\n",
       "      <td>108.75</td>\n",
       "      <td>103.44</td>\n",
       "    </tr>\n",
       "    <tr>\n",
       "      <th>2020-08-05</th>\n",
       "      <td>AEM.TO</td>\n",
       "      <td>110.83</td>\n",
       "      <td>109.96</td>\n",
       "      <td>111.59</td>\n",
       "      <td>109.35</td>\n",
       "    </tr>\n",
       "    <tr>\n",
       "      <th>2020-08-06</th>\n",
       "      <td>AEM.TO</td>\n",
       "      <td>111.90</td>\n",
       "      <td>112.00</td>\n",
       "      <td>112.37</td>\n",
       "      <td>109.65</td>\n",
       "    </tr>\n",
       "    <tr>\n",
       "      <th>2020-08-07</th>\n",
       "      <td>AEM.TO</td>\n",
       "      <td>110.10</td>\n",
       "      <td>109.74</td>\n",
       "      <td>112.08</td>\n",
       "      <td>109.30</td>\n",
       "    </tr>\n",
       "    <tr>\n",
       "      <th>2020-08-10</th>\n",
       "      <td>AEM.TO</td>\n",
       "      <td>109.38</td>\n",
       "      <td>110.78</td>\n",
       "      <td>112.10</td>\n",
       "      <td>109.07</td>\n",
       "    </tr>\n",
       "  </tbody>\n",
       "</table>\n",
       "</div>"
      ],
      "text/plain": [
       "           instrument  price close  price open  price high  price low\n",
       "2020-08-04     AEM.TO       108.62      104.88      108.75     103.44\n",
       "2020-08-05     AEM.TO       110.83      109.96      111.59     109.35\n",
       "2020-08-06     AEM.TO       111.90      112.00      112.37     109.65\n",
       "2020-08-07     AEM.TO       110.10      109.74      112.08     109.30\n",
       "2020-08-10     AEM.TO       109.38      110.78      112.10     109.07"
      ]
     },
     "execution_count": 270,
     "metadata": {},
     "output_type": "execute_result"
    }
   ],
   "source": [
    "import eikon as tr\n",
    "tr.set_app_key('DEFAULT_CODE_BOOK_APP_KEY')\n",
    "\n",
    "stock = 'AEM.TO'\n",
    "\n",
    "df1, e= tr.get_data([stock],['tr.priceclose.date','tr.priceclose','tr.open','tr.high','tr.low'],\n",
    "                       {'SDate':-50,'EDate':0,'Frq':'D'})\n",
    "\n",
    "df1['Date'] = pd.to_datetime(df1['Date'])\n",
    "df1.set_index('Date', inplace=True) \n",
    "df1.index = df1.index.map(lambda t: t.strftime('%Y-%m-%d'))\n",
    "df1.columns = map(str.lower, df1.columns)\n",
    "df1 = df1.drop_duplicates()\n",
    "df1 = df1.round(2)\n",
    "df1.tail()"
   ]
  },
  {
   "cell_type": "markdown",
   "metadata": {},
   "source": [
    "#### True Range\n",
    "\n",
    "The TR for a given trading period is the greatest of the following:\n",
    "\n",
    "- Current high minus the previous close\n",
    "- Current low minus the previous close\n",
    "- Current high minus the current low"
   ]
  },
  {
   "cell_type": "code",
   "execution_count": 271,
   "metadata": {},
   "outputs": [],
   "source": [
    "df1['price close shifted'] = df1['price close'].shift(1)"
   ]
  },
  {
   "cell_type": "code",
   "execution_count": 272,
   "metadata": {},
   "outputs": [],
   "source": [
    "df1['high minus low'] = df1['price high']-df1['price low']"
   ]
  },
  {
   "cell_type": "code",
   "execution_count": 273,
   "metadata": {},
   "outputs": [],
   "source": [
    "df1['low minus previous close'] = df1['price low']-df1['price close shifted']"
   ]
  },
  {
   "cell_type": "code",
   "execution_count": 274,
   "metadata": {},
   "outputs": [],
   "source": [
    "df1['high minus previous close'] = df1['price high']-df1['price close shifted']"
   ]
  },
  {
   "cell_type": "code",
   "execution_count": 281,
   "metadata": {},
   "outputs": [],
   "source": [
    "df1['true range'] = abs(df1[['high minus low','low minus previous close','high minus previous close']]).max(axis=1)"
   ]
  },
  {
   "cell_type": "markdown",
   "metadata": {},
   "source": [
    "#### Average True Range"
   ]
  },
  {
   "cell_type": "code",
   "execution_count": 276,
   "metadata": {},
   "outputs": [
    {
     "data": {
      "text/html": [
       "<div>\n",
       "<style scoped>\n",
       "    .dataframe tbody tr th:only-of-type {\n",
       "        vertical-align: middle;\n",
       "    }\n",
       "\n",
       "    .dataframe tbody tr th {\n",
       "        vertical-align: top;\n",
       "    }\n",
       "\n",
       "    .dataframe thead th {\n",
       "        text-align: right;\n",
       "    }\n",
       "</style>\n",
       "<table border=\"1\" class=\"dataframe\">\n",
       "  <thead>\n",
       "    <tr style=\"text-align: right;\">\n",
       "      <th></th>\n",
       "      <th>instrument</th>\n",
       "      <th>price close</th>\n",
       "      <th>price open</th>\n",
       "      <th>price high</th>\n",
       "      <th>price low</th>\n",
       "      <th>price close shifted</th>\n",
       "      <th>high minus low</th>\n",
       "      <th>low minus previous close</th>\n",
       "      <th>high minus previous close</th>\n",
       "      <th>true range</th>\n",
       "      <th>atr</th>\n",
       "    </tr>\n",
       "  </thead>\n",
       "  <tbody>\n",
       "    <tr>\n",
       "      <th>2020-08-07</th>\n",
       "      <td>AEM.TO</td>\n",
       "      <td>110.10</td>\n",
       "      <td>109.74</td>\n",
       "      <td>112.08</td>\n",
       "      <td>109.30</td>\n",
       "      <td>111.9</td>\n",
       "      <td>2.78</td>\n",
       "      <td>-2.60</td>\n",
       "      <td>0.18</td>\n",
       "      <td>2.78</td>\n",
       "      <td>3.61</td>\n",
       "    </tr>\n",
       "    <tr>\n",
       "      <th>2020-08-10</th>\n",
       "      <td>AEM.TO</td>\n",
       "      <td>109.38</td>\n",
       "      <td>110.78</td>\n",
       "      <td>112.10</td>\n",
       "      <td>109.07</td>\n",
       "      <td>110.1</td>\n",
       "      <td>3.03</td>\n",
       "      <td>-1.03</td>\n",
       "      <td>2.00</td>\n",
       "      <td>3.03</td>\n",
       "      <td>3.59</td>\n",
       "    </tr>\n",
       "  </tbody>\n",
       "</table>\n",
       "</div>"
      ],
      "text/plain": [
       "           instrument  price close  price open  price high  price low  \\\n",
       "2020-08-07     AEM.TO       110.10      109.74      112.08     109.30   \n",
       "2020-08-10     AEM.TO       109.38      110.78      112.10     109.07   \n",
       "\n",
       "            price close shifted  high minus low  low minus previous close  \\\n",
       "2020-08-07                111.9            2.78                     -2.60   \n",
       "2020-08-10                110.1            3.03                     -1.03   \n",
       "\n",
       "            high minus previous close  true range   atr  \n",
       "2020-08-07                       0.18        2.78  3.61  \n",
       "2020-08-10                       2.00        3.03  3.59  "
      ]
     },
     "execution_count": 276,
     "metadata": {},
     "output_type": "execute_result"
    }
   ],
   "source": [
    "df1['atr'] = (df1['high minus low'].rolling(13).sum()+df1['high minus low'])/14\n",
    "df1.tail(2).round(2)"
   ]
  },
  {
   "cell_type": "code",
   "execution_count": 277,
   "metadata": {},
   "outputs": [],
   "source": [
    "df1['2x atr'] = df1['atr']*2"
   ]
  },
  {
   "cell_type": "markdown",
   "metadata": {},
   "source": [
    "#### % Of Capital At Risk"
   ]
  },
  {
   "cell_type": "code",
   "execution_count": 278,
   "metadata": {},
   "outputs": [],
   "source": [
    "df1['$ at risk'] = (.002*100000)"
   ]
  },
  {
   "cell_type": "code",
   "execution_count": 279,
   "metadata": {},
   "outputs": [],
   "source": [
    "df1['recommended position size'] = df1['$ at risk']/df1['2x atr']"
   ]
  },
  {
   "cell_type": "markdown",
   "metadata": {},
   "source": [
    "#### Go To Market Position Size"
   ]
  },
  {
   "cell_type": "code",
   "execution_count": 280,
   "metadata": {},
   "outputs": [
    {
     "data": {
      "text/plain": [
       "28.0"
      ]
     },
     "execution_count": 280,
     "metadata": {},
     "output_type": "execute_result"
    }
   ],
   "source": [
    "df1['recommended position size'][-1].round()"
   ]
  },
  {
   "cell_type": "markdown",
   "metadata": {},
   "source": [
    "Good luck with the market! Guillaume, Fierce Research"
   ]
  },
  {
   "cell_type": "code",
   "execution_count": null,
   "metadata": {},
   "outputs": [],
   "source": []
  }
 ],
 "metadata": {
  "kernelspec": {
   "display_name": "Python 3",
   "language": "python",
   "name": "python3"
  },
  "language_info": {
   "codemirror_mode": {
    "name": "ipython",
    "version": 3
   },
   "file_extension": ".py",
   "mimetype": "text/x-python",
   "name": "python",
   "nbconvert_exporter": "python",
   "pygments_lexer": "ipython3",
   "version": "3.7.4"
  }
 },
 "nbformat": 4,
 "nbformat_minor": 4
}
