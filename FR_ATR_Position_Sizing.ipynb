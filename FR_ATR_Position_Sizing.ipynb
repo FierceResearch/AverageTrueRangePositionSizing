{
 "cells": [
  {
   "cell_type": "markdown",
   "metadata": {},
   "source": [
    "# Fierce Research ATR Position Sizing For Stocks"
   ]
  },
  {
   "cell_type": "markdown",
   "metadata": {},
   "source": [
    "#### Import Packages"
   ]
  },
  {
   "cell_type": "code",
   "execution_count": 1,
   "metadata": {},
   "outputs": [],
   "source": [
    "import numpy as np\n",
    "import pandas as pd\n",
    "\n",
    "import warnings \n",
    "warnings.filterwarnings('ignore')"
   ]
  },
  {
   "cell_type": "markdown",
   "metadata": {},
   "source": [
    "#### Import Data"
   ]
  },
  {
   "cell_type": "code",
   "execution_count": 2,
   "metadata": {},
   "outputs": [],
   "source": [
    "import eikon as tr\n",
    "tr.set_app_key('DEFAULT_CODE_BOOK_APP_KEY')\n",
    "\n",
    "stock = 'GNW'\n",
    "\n",
    "df1, e= tr.get_data([stock],['tr.priceclose.date','tr.priceclose','tr.open','tr.high','tr.low'],\n",
    "                       {'SDate':-50,'EDate':0,'Frq':'D'})\n",
    "\n",
    "df1['Date'] = pd.to_datetime(df1['Date'])\n",
    "df1.set_index('Date', inplace=True) \n",
    "df1.index = df1.index.map(lambda t: t.strftime('%Y-%m-%d'))\n",
    "df1.columns = map(str.lower, df1.columns)\n",
    "df1 = df1.drop_duplicates()\n",
    "df1 = df1.round(2)"
   ]
  },
  {
   "cell_type": "markdown",
   "metadata": {},
   "source": [
    "#### True Range\n",
    "\n",
    "The TR for a given trading period is the greatest of the following:\n",
    "\n",
    "- Current high minus the previous close\n",
    "- Current low minus the previous close\n",
    "- Current high minus the current low"
   ]
  },
  {
   "cell_type": "code",
   "execution_count": 3,
   "metadata": {},
   "outputs": [
    {
     "data": {
      "text/html": [
       "<div>\n",
       "<style scoped>\n",
       "    .dataframe tbody tr th:only-of-type {\n",
       "        vertical-align: middle;\n",
       "    }\n",
       "\n",
       "    .dataframe tbody tr th {\n",
       "        vertical-align: top;\n",
       "    }\n",
       "\n",
       "    .dataframe thead th {\n",
       "        text-align: right;\n",
       "    }\n",
       "</style>\n",
       "<table border=\"1\" class=\"dataframe\">\n",
       "  <thead>\n",
       "    <tr style=\"text-align: right;\">\n",
       "      <th></th>\n",
       "      <th>instrument</th>\n",
       "      <th>price close</th>\n",
       "      <th>price open</th>\n",
       "      <th>price high</th>\n",
       "      <th>price low</th>\n",
       "      <th>price close shifted</th>\n",
       "      <th>high minus low</th>\n",
       "      <th>low minus previous close</th>\n",
       "      <th>high minus previous close</th>\n",
       "      <th>true range</th>\n",
       "    </tr>\n",
       "    <tr>\n",
       "      <th>Date</th>\n",
       "      <th></th>\n",
       "      <th></th>\n",
       "      <th></th>\n",
       "      <th></th>\n",
       "      <th></th>\n",
       "      <th></th>\n",
       "      <th></th>\n",
       "      <th></th>\n",
       "      <th></th>\n",
       "      <th></th>\n",
       "    </tr>\n",
       "  </thead>\n",
       "  <tbody>\n",
       "    <tr>\n",
       "      <th>2021-02-23</th>\n",
       "      <td>GNW</td>\n",
       "      <td>3.03</td>\n",
       "      <td>3.03</td>\n",
       "      <td>3.16</td>\n",
       "      <td>2.95</td>\n",
       "      <td>3.16</td>\n",
       "      <td>0.21</td>\n",
       "      <td>-0.21</td>\n",
       "      <td>0.00</td>\n",
       "      <td>0.21</td>\n",
       "    </tr>\n",
       "    <tr>\n",
       "      <th>2021-02-24</th>\n",
       "      <td>GNW</td>\n",
       "      <td>3.13</td>\n",
       "      <td>3.11</td>\n",
       "      <td>3.15</td>\n",
       "      <td>3.04</td>\n",
       "      <td>3.03</td>\n",
       "      <td>0.11</td>\n",
       "      <td>0.01</td>\n",
       "      <td>0.12</td>\n",
       "      <td>0.12</td>\n",
       "    </tr>\n",
       "    <tr>\n",
       "      <th>2021-02-25</th>\n",
       "      <td>GNW</td>\n",
       "      <td>3.18</td>\n",
       "      <td>3.14</td>\n",
       "      <td>3.29</td>\n",
       "      <td>3.05</td>\n",
       "      <td>3.13</td>\n",
       "      <td>0.24</td>\n",
       "      <td>-0.08</td>\n",
       "      <td>0.16</td>\n",
       "      <td>0.24</td>\n",
       "    </tr>\n",
       "    <tr>\n",
       "      <th>2021-02-26</th>\n",
       "      <td>GNW</td>\n",
       "      <td>3.12</td>\n",
       "      <td>3.19</td>\n",
       "      <td>3.26</td>\n",
       "      <td>3.11</td>\n",
       "      <td>3.18</td>\n",
       "      <td>0.15</td>\n",
       "      <td>-0.07</td>\n",
       "      <td>0.08</td>\n",
       "      <td>0.15</td>\n",
       "    </tr>\n",
       "    <tr>\n",
       "      <th>2021-03-01</th>\n",
       "      <td>GNW</td>\n",
       "      <td>3.31</td>\n",
       "      <td>3.25</td>\n",
       "      <td>3.31</td>\n",
       "      <td>3.17</td>\n",
       "      <td>3.12</td>\n",
       "      <td>0.14</td>\n",
       "      <td>0.05</td>\n",
       "      <td>0.19</td>\n",
       "      <td>0.19</td>\n",
       "    </tr>\n",
       "  </tbody>\n",
       "</table>\n",
       "</div>"
      ],
      "text/plain": [
       "           instrument  price close  price open  price high  price low  \\\n",
       "Date                                                                    \n",
       "2021-02-23        GNW         3.03        3.03        3.16       2.95   \n",
       "2021-02-24        GNW         3.13        3.11        3.15       3.04   \n",
       "2021-02-25        GNW         3.18        3.14        3.29       3.05   \n",
       "2021-02-26        GNW         3.12        3.19        3.26       3.11   \n",
       "2021-03-01        GNW         3.31        3.25        3.31       3.17   \n",
       "\n",
       "            price close shifted  high minus low  low minus previous close  \\\n",
       "Date                                                                        \n",
       "2021-02-23                 3.16            0.21                     -0.21   \n",
       "2021-02-24                 3.03            0.11                      0.01   \n",
       "2021-02-25                 3.13            0.24                     -0.08   \n",
       "2021-02-26                 3.18            0.15                     -0.07   \n",
       "2021-03-01                 3.12            0.14                      0.05   \n",
       "\n",
       "            high minus previous close  true range  \n",
       "Date                                               \n",
       "2021-02-23                       0.00        0.21  \n",
       "2021-02-24                       0.12        0.12  \n",
       "2021-02-25                       0.16        0.24  \n",
       "2021-02-26                       0.08        0.15  \n",
       "2021-03-01                       0.19        0.19  "
      ]
     },
     "execution_count": 3,
     "metadata": {},
     "output_type": "execute_result"
    }
   ],
   "source": [
    "df1['price close shifted'] = df1['price close'].shift(1)\n",
    "df1['high minus low'] = df1['price high']-df1['price low']\n",
    "df1['low minus previous close'] = df1['price low']-df1['price close shifted']\n",
    "df1['high minus previous close'] = df1['price high']-df1['price close shifted']\n",
    "df1['true range'] = abs(df1[['high minus low','low minus previous close','high minus previous close']]).max(axis=1)\n",
    "df1.tail()"
   ]
  },
  {
   "cell_type": "markdown",
   "metadata": {},
   "source": [
    "#### Average True Range"
   ]
  },
  {
   "cell_type": "code",
   "execution_count": 4,
   "metadata": {},
   "outputs": [],
   "source": [
    "df1['atr'] = (df1['high minus low'].rolling(13).sum()+df1['high minus low'])/14"
   ]
  },
  {
   "cell_type": "code",
   "execution_count": 5,
   "metadata": {},
   "outputs": [
    {
     "data": {
      "text/html": [
       "<div>\n",
       "<style scoped>\n",
       "    .dataframe tbody tr th:only-of-type {\n",
       "        vertical-align: middle;\n",
       "    }\n",
       "\n",
       "    .dataframe tbody tr th {\n",
       "        vertical-align: top;\n",
       "    }\n",
       "\n",
       "    .dataframe thead th {\n",
       "        text-align: right;\n",
       "    }\n",
       "</style>\n",
       "<table border=\"1\" class=\"dataframe\">\n",
       "  <thead>\n",
       "    <tr style=\"text-align: right;\">\n",
       "      <th></th>\n",
       "      <th>instrument</th>\n",
       "      <th>price close</th>\n",
       "      <th>price open</th>\n",
       "      <th>price high</th>\n",
       "      <th>price low</th>\n",
       "      <th>price close shifted</th>\n",
       "      <th>high minus low</th>\n",
       "      <th>low minus previous close</th>\n",
       "      <th>high minus previous close</th>\n",
       "      <th>true range</th>\n",
       "      <th>atr</th>\n",
       "      <th>2x atr</th>\n",
       "    </tr>\n",
       "    <tr>\n",
       "      <th>Date</th>\n",
       "      <th></th>\n",
       "      <th></th>\n",
       "      <th></th>\n",
       "      <th></th>\n",
       "      <th></th>\n",
       "      <th></th>\n",
       "      <th></th>\n",
       "      <th></th>\n",
       "      <th></th>\n",
       "      <th></th>\n",
       "      <th></th>\n",
       "      <th></th>\n",
       "    </tr>\n",
       "  </thead>\n",
       "  <tbody>\n",
       "    <tr>\n",
       "      <th>2021-02-23</th>\n",
       "      <td>GNW</td>\n",
       "      <td>3.03</td>\n",
       "      <td>3.03</td>\n",
       "      <td>3.16</td>\n",
       "      <td>2.95</td>\n",
       "      <td>3.16</td>\n",
       "      <td>0.21</td>\n",
       "      <td>-0.21</td>\n",
       "      <td>0.00</td>\n",
       "      <td>0.21</td>\n",
       "      <td>0.307857</td>\n",
       "      <td>0.615714</td>\n",
       "    </tr>\n",
       "    <tr>\n",
       "      <th>2021-02-24</th>\n",
       "      <td>GNW</td>\n",
       "      <td>3.13</td>\n",
       "      <td>3.11</td>\n",
       "      <td>3.15</td>\n",
       "      <td>3.04</td>\n",
       "      <td>3.03</td>\n",
       "      <td>0.11</td>\n",
       "      <td>0.01</td>\n",
       "      <td>0.12</td>\n",
       "      <td>0.12</td>\n",
       "      <td>0.271429</td>\n",
       "      <td>0.542857</td>\n",
       "    </tr>\n",
       "    <tr>\n",
       "      <th>2021-02-25</th>\n",
       "      <td>GNW</td>\n",
       "      <td>3.18</td>\n",
       "      <td>3.14</td>\n",
       "      <td>3.29</td>\n",
       "      <td>3.05</td>\n",
       "      <td>3.13</td>\n",
       "      <td>0.24</td>\n",
       "      <td>-0.08</td>\n",
       "      <td>0.16</td>\n",
       "      <td>0.24</td>\n",
       "      <td>0.279286</td>\n",
       "      <td>0.558571</td>\n",
       "    </tr>\n",
       "    <tr>\n",
       "      <th>2021-02-26</th>\n",
       "      <td>GNW</td>\n",
       "      <td>3.12</td>\n",
       "      <td>3.19</td>\n",
       "      <td>3.26</td>\n",
       "      <td>3.11</td>\n",
       "      <td>3.18</td>\n",
       "      <td>0.15</td>\n",
       "      <td>-0.07</td>\n",
       "      <td>0.08</td>\n",
       "      <td>0.15</td>\n",
       "      <td>0.263571</td>\n",
       "      <td>0.527143</td>\n",
       "    </tr>\n",
       "    <tr>\n",
       "      <th>2021-03-01</th>\n",
       "      <td>GNW</td>\n",
       "      <td>3.31</td>\n",
       "      <td>3.25</td>\n",
       "      <td>3.31</td>\n",
       "      <td>3.17</td>\n",
       "      <td>3.12</td>\n",
       "      <td>0.14</td>\n",
       "      <td>0.05</td>\n",
       "      <td>0.19</td>\n",
       "      <td>0.19</td>\n",
       "      <td>0.258571</td>\n",
       "      <td>0.517143</td>\n",
       "    </tr>\n",
       "  </tbody>\n",
       "</table>\n",
       "</div>"
      ],
      "text/plain": [
       "           instrument  price close  price open  price high  price low  \\\n",
       "Date                                                                    \n",
       "2021-02-23        GNW         3.03        3.03        3.16       2.95   \n",
       "2021-02-24        GNW         3.13        3.11        3.15       3.04   \n",
       "2021-02-25        GNW         3.18        3.14        3.29       3.05   \n",
       "2021-02-26        GNW         3.12        3.19        3.26       3.11   \n",
       "2021-03-01        GNW         3.31        3.25        3.31       3.17   \n",
       "\n",
       "            price close shifted  high minus low  low minus previous close  \\\n",
       "Date                                                                        \n",
       "2021-02-23                 3.16            0.21                     -0.21   \n",
       "2021-02-24                 3.03            0.11                      0.01   \n",
       "2021-02-25                 3.13            0.24                     -0.08   \n",
       "2021-02-26                 3.18            0.15                     -0.07   \n",
       "2021-03-01                 3.12            0.14                      0.05   \n",
       "\n",
       "            high minus previous close  true range       atr    2x atr  \n",
       "Date                                                                   \n",
       "2021-02-23                       0.00        0.21  0.307857  0.615714  \n",
       "2021-02-24                       0.12        0.12  0.271429  0.542857  \n",
       "2021-02-25                       0.16        0.24  0.279286  0.558571  \n",
       "2021-02-26                       0.08        0.15  0.263571  0.527143  \n",
       "2021-03-01                       0.19        0.19  0.258571  0.517143  "
      ]
     },
     "execution_count": 5,
     "metadata": {},
     "output_type": "execute_result"
    }
   ],
   "source": [
    "df1['2x atr'] = df1['atr']*2\n",
    "df1.tail()"
   ]
  },
  {
   "cell_type": "markdown",
   "metadata": {},
   "source": [
    "#### % Of Capital At Risk"
   ]
  },
  {
   "cell_type": "code",
   "execution_count": 6,
   "metadata": {},
   "outputs": [],
   "source": [
    "df1['$ at risk'] = (.002*110000)"
   ]
  },
  {
   "cell_type": "code",
   "execution_count": 7,
   "metadata": {},
   "outputs": [],
   "source": [
    "df1['recommended position size'] = df1['$ at risk']/df1['2x atr']"
   ]
  },
  {
   "cell_type": "markdown",
   "metadata": {},
   "source": [
    "#### Go To Market Position Size"
   ]
  },
  {
   "cell_type": "code",
   "execution_count": 8,
   "metadata": {},
   "outputs": [
    {
     "data": {
      "text/plain": [
       "425.0"
      ]
     },
     "execution_count": 8,
     "metadata": {},
     "output_type": "execute_result"
    }
   ],
   "source": [
    "df1['recommended position size'][-1].round()"
   ]
  }
 ],
 "metadata": {
  "kernelspec": {
   "display_name": "Python 3",
   "language": "python",
   "name": "python3"
  },
  "language_info": {
   "codemirror_mode": {
    "name": "ipython",
    "version": 3
   },
   "file_extension": ".py",
   "mimetype": "text/x-python",
   "name": "python",
   "nbconvert_exporter": "python",
   "pygments_lexer": "ipython3",
   "version": "3.7.4"
  }
 },
 "nbformat": 4,
 "nbformat_minor": 4
}
